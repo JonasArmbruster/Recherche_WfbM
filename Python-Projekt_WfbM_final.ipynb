{
 "cells": [
  {
   "cell_type": "code",
   "execution_count": null,
   "id": "29f3949f",
   "metadata": {},
   "outputs": [],
   "source": [
    "!pip install pandas\n",
    "!pip install geopandas\n",
    "!pip install plotly\n",
    "!pip install dash\n",
    "!pip install dash_bootstrap_components"
   ]
  },
  {
   "cell_type": "code",
   "execution_count": null,
   "id": "7f9e453f",
   "metadata": {},
   "outputs": [],
   "source": [
    "import pandas as pd\n",
    "import geopandas as gpd\n",
    "import json\n",
    "\n",
    "import plotly\n",
    "import plotly.express as px\n",
    "\n",
    "import dash\n",
    "from dash import dcc\n",
    "from dash import html\n",
    "import dash_bootstrap_components as dbc\n"
   ]
  },
  {
   "cell_type": "code",
   "execution_count": null,
   "id": "de2fd781",
   "metadata": {},
   "outputs": [],
   "source": [
    "data = pd.read_excel(\"entgelte_data.xlsx\", engine=\"openpyxl\")"
   ]
  },
  {
   "cell_type": "code",
   "execution_count": null,
   "id": "f703b6ca",
   "metadata": {},
   "outputs": [],
   "source": [
    "data"
   ]
  },
  {
   "cell_type": "code",
   "execution_count": null,
   "id": "62ce6e6d",
   "metadata": {},
   "outputs": [],
   "source": [
    "data.replace('k.A.', None, inplace = True)\n",
    "data[data['Jahr'] == 2017]"
   ]
  },
  {
   "cell_type": "code",
   "execution_count": null,
   "id": "7fd0e1b9",
   "metadata": {},
   "outputs": [],
   "source": [
    "data['Durchschnittliches monatliches Arbeitsentgelt'].sum()"
   ]
  },
  {
   "cell_type": "code",
   "execution_count": null,
   "id": "57ce2bf5",
   "metadata": {},
   "outputs": [],
   "source": [
    "# wir ändern Durchschnittliches monatliches Arbeitsentgelt in einen griffigeren Spaltennamen\n",
    "data.columns = data.columns.str.replace('Durchschnittliches monatliches Arbeitsentgelt', 'Monatsgehalt')\n"
   ]
  },
  {
   "cell_type": "code",
   "execution_count": null,
   "id": "44d6b32e",
   "metadata": {},
   "outputs": [],
   "source": [
    "# wir checken, ob alle Bundesländer richtig geschrieben wurden\n",
    "data['Bundesland'].unique()\n"
   ]
  },
  {
   "cell_type": "code",
   "execution_count": null,
   "id": "e57dbc29",
   "metadata": {},
   "outputs": [],
   "source": [
    "# Jedem Element der Spalte \"Bundesland\", bei dem am Ende von \"Mecklenburg-Vorpommern\" ein \"n\" fehlt, wird ein \"n\" angehängt\n",
    "\n",
    "for item in data['Bundesland']:\n",
    "    if item == 'Mecklenburg-Vorpommer':\n",
    "        data.replace(item, str(item) + \"n\", inplace = True)\n"
   ]
  },
  {
   "cell_type": "code",
   "execution_count": null,
   "id": "f4a7d4be",
   "metadata": {},
   "outputs": [],
   "source": [
    "# wir möchten die Zeilen mit dem Eintrag 'Bundesrepublik' entfernen, weil der Wert selbst berechnet werden kann\n",
    "# Definition zeigt, an welchen Stellen im Index ein bestimmter Wert steht\n",
    "\n",
    "def get_bl_index(bundesland):\n",
    "    i = data.index\n",
    "    index = data[\"Bundesland\"] == bundesland\n",
    "    result = i[index]\n",
    "    bl_indices = result.tolist()\n",
    "    return bl_indices\n"
   ]
  },
  {
   "cell_type": "code",
   "execution_count": null,
   "id": "46d1c461",
   "metadata": {},
   "outputs": [],
   "source": [
    "#hier bekommen wir ausgegeben, an welchen Stellen Bundesrepublik im Index steht\n",
    "\n",
    "get_bl_index('Bundesrepublik')\n"
   ]
  },
  {
   "cell_type": "code",
   "execution_count": null,
   "id": "fd4a1ad4",
   "metadata": {},
   "outputs": [],
   "source": [
    "#hier entfernen wir alle Zeilen mit Bundesrepublik\n",
    "\n",
    "data.drop(get_bl_index('Bundesrepublik'), axis=0, inplace = True)\n"
   ]
  },
  {
   "cell_type": "code",
   "execution_count": null,
   "id": "f00cb85b",
   "metadata": {},
   "outputs": [],
   "source": [
    "data.to_csv(r'projekt_entgelte_final.csv', index=False)"
   ]
  },
  {
   "cell_type": "code",
   "execution_count": null,
   "id": "e9141a25",
   "metadata": {},
   "outputs": [],
   "source": [
    "# Einlesen des Datensatzes mit den Arbeitsentgelten aus den Bundesländern\n",
    "entgelte = pd.read_csv(\"projekt_entgelte_final.csv\")"
   ]
  },
  {
   "cell_type": "code",
   "execution_count": null,
   "id": "8720a817",
   "metadata": {},
   "outputs": [],
   "source": []
  },
  {
   "cell_type": "code",
   "execution_count": null,
   "id": "015a0266",
   "metadata": {},
   "outputs": [],
   "source": [
    "# Abspeichern des Shapefiles für die deutschen Bundesländer\n",
    "geodaten = \"gadm41_DEU_1.shp\"\n",
    "#Einlesen der Geodaten mit geopandas\n",
    "map_df = gpd.read_file(geodaten)\n",
    "# Aussortieren der nicht benötigten Spalten aus dem Datensatz\n",
    "map_df.drop([\"GID_1\", \"GID_0\", \"COUNTRY\", \"VARNAME_1\", \"NL_NAME_1\", \"TYPE_1\", \"ENGTYPE_1\", \"CC_1\", \"HASC_1\", \"ISO_1\"] , axis=1, inplace=True)"
   ]
  },
  {
   "cell_type": "code",
   "execution_count": null,
   "id": "17c49e50",
   "metadata": {},
   "outputs": [],
   "source": [
    "# Vereinfachen der Polygone, aus denen sich die BUndesländer aufbauen, auf eine Genauigkeit von 1000 Metern\n",
    "# So verringert sich die Zeit, die die Karte zum Laden braucht, deutlich\n",
    "map_df[\"geometry\"] = (map_df.to_crs(map_df.estimate_utm_crs()).simplify(1000).to_crs(map_df.crs))"
   ]
  },
  {
   "cell_type": "code",
   "execution_count": null,
   "id": "bec8c023",
   "metadata": {},
   "outputs": [],
   "source": [
    "# Exportieren der Geodaten als GeoJSON\n",
    "map_df.to_file(\"bundeslaender_shapefile.json\", driver='GeoJSON')"
   ]
  },
  {
   "cell_type": "code",
   "execution_count": null,
   "id": "4fc92036",
   "metadata": {},
   "outputs": [],
   "source": [
    "# Einlesen der erstellen GeoJSON-Datei\n",
    "with open('bundeslaender_shapefile.json', encoding='utf-8') as shapefile:\n",
    "    bundeslaender_geo = json.load(shapefile)"
   ]
  },
  {
   "cell_type": "code",
   "execution_count": null,
   "id": "dc03f83a",
   "metadata": {},
   "outputs": [],
   "source": [
    "# Abfrage, über welche keys auf die Daten im Shapefile zugegriffen werden kann\n",
    "bundeslaender_geo[\"features\"][0][\"properties\"].keys()\n"
   ]
  },
  {
   "cell_type": "code",
   "execution_count": null,
   "id": "54c19bbb",
   "metadata": {},
   "outputs": [],
   "source": []
  },
  {
   "cell_type": "code",
   "execution_count": null,
   "id": "40131cfc",
   "metadata": {},
   "outputs": [],
   "source": [
    "# Visualisierung des Datensatzes als Choroplethen-Karte mit plotly.express\n",
    "\n",
    "karte_entgelte = px.choropleth_mapbox(entgelte, geojson=bundeslaender_geo,\n",
    "                          width=600, height=600,\n",
    "                          locations='Bundesland',\n",
    "                          title = \"Durchschnittliche Monatsgehälter in WfbM 2009 - 2021 in Euro\",\n",
    "                          color='Monatsgehalt',\n",
    "                          color_continuous_scale=\"sunset\",\n",
    "                          featureidkey=\"properties.NAME_1\",\n",
    "                          mapbox_style=\"carto-positron\",\n",
    "                          opacity=0.8,\n",
    "                          center = {\"lat\": 51.1657, \"lon\": 10.4515},\n",
    "                          zoom=4.3,\n",
    "                          hover_name=\"Bundesland\",\n",
    "                          custom_data=['Bundesland', 'Monatsgehalt'],\n",
    "                          animation_frame='Jahr'\n",
    "                          )\n",
    "\n",
    "karte_entgelte.update_geos(fitbounds=\"locations\",visible=False)\n",
    "karte_entgelte.update_layout(height=600, margin={\"r\":0,\"t\":70,\"l\":0,\"b\":0})\n",
    "karte_entgelte.update_coloraxes(cmin=110, cmax=270)\n",
    "karte_entgelte.update_traces(hovertemplate=\"<br>\".join([\"<b>%{customdata[0]}<b>\",\n",
    "                                             \"Monatsgehalt: %{customdata[1]}\" \"€\",\n",
    "                                            ])\n",
    "                 )\n",
    "\n",
    "karte_entgelte.show()\n"
   ]
  },
  {
   "cell_type": "code",
   "execution_count": null,
   "id": "78feaf42",
   "metadata": {},
   "outputs": [],
   "source": []
  },
  {
   "cell_type": "code",
   "execution_count": null,
   "id": "df5f119a",
   "metadata": {},
   "outputs": [],
   "source": []
  },
  {
   "cell_type": "code",
   "execution_count": null,
   "id": "66069f84",
   "metadata": {},
   "outputs": [],
   "source": [
    "#Bundesdurchschnitt zum Vergleich der Entwicklung mit Sachsen\n",
    "bundesdurchschnitt = entgelte.groupby('Jahr', as_index = False).mean()\n",
    "bundesdurchschnitt\n"
   ]
  },
  {
   "cell_type": "code",
   "execution_count": null,
   "id": "5c8d5779",
   "metadata": {},
   "outputs": [],
   "source": [
    "#nur Sachsen extrahieren\n",
    "data_sachsen = entgelte[entgelte['Bundesland']=='Sachsen']\n",
    "data_sachsen\n"
   ]
  },
  {
   "cell_type": "code",
   "execution_count": null,
   "id": "b1b20c6c",
   "metadata": {},
   "outputs": [],
   "source": [
    "#Bundesdurchschnitt und Sachsen zusammenfügen\n",
    "vergleich_data = pd.concat([bundesdurchschnitt, data_sachsen])\n",
    "vergleich_data\n"
   ]
  },
  {
   "cell_type": "code",
   "execution_count": null,
   "id": "f26c3027",
   "metadata": {},
   "outputs": [],
   "source": [
    "#für Bundesdurchschnitt einen Wert vergeben für die Spalte Bundesland\n",
    "vergleich_data['Bundesland'] = vergleich_data['Bundesland'].fillna('Bundesdurchschnitt')\n",
    "vergleich_data\n"
   ]
  },
  {
   "cell_type": "code",
   "execution_count": null,
   "id": "6207b58f",
   "metadata": {},
   "outputs": [],
   "source": [
    "#Darstellung der Entwicklung in Deutschland vs. Sachsen\n",
    "import plotly.express as px\n",
    "\n",
    "graph_entgelte = px.line(vergleich_data, x=\"Jahr\", y=\"Monatsgehalt\", title='Entwicklung der Entgelte in Euro', color='Bundesland')\n",
    "\n",
    "graph_entgelte.show()\n"
   ]
  },
  {
   "cell_type": "code",
   "execution_count": null,
   "id": "40565c00",
   "metadata": {},
   "outputs": [],
   "source": []
  },
  {
   "cell_type": "code",
   "execution_count": null,
   "id": "2528647e",
   "metadata": {},
   "outputs": [],
   "source": []
  },
  {
   "cell_type": "code",
   "execution_count": null,
   "id": "3cd8e67b",
   "metadata": {},
   "outputs": [],
   "source": [
    "data_anzahl_wfbm = pd.read_excel(\"werkstätten_data.xlsx\", engine=\"openpyxl\")\n",
    "data_anzahl_wfbm"
   ]
  },
  {
   "cell_type": "code",
   "execution_count": null,
   "id": "a79943d6",
   "metadata": {},
   "outputs": [],
   "source": [
    "# Datenbereinigung: Überprüfung, ob alle Bundesländer und Jahre richtig da sind\n",
    "len(data_anzahl_wfbm['Bundesland'].unique())"
   ]
  },
  {
   "cell_type": "code",
   "execution_count": null,
   "id": "372bd400",
   "metadata": {},
   "outputs": [],
   "source": [
    "data_anzahl_wfbm['Bundesland'].unique()"
   ]
  },
  {
   "cell_type": "code",
   "execution_count": null,
   "id": "e940ba3d",
   "metadata": {},
   "outputs": [],
   "source": [
    "data_anzahl_wfbm['Jahr'].unique()"
   ]
  },
  {
   "cell_type": "code",
   "execution_count": null,
   "id": "56e1742d",
   "metadata": {},
   "outputs": [],
   "source": [
    "len(data_anzahl_wfbm['Jahr'].unique())"
   ]
  },
  {
   "cell_type": "code",
   "execution_count": null,
   "id": "96e6e967",
   "metadata": {},
   "outputs": [],
   "source": [
    "# Überprüfen, wie die Daten vorliegen und ob von allen Datentypen\n",
    "# gleich viele Werte vorliegen\n",
    "data_anzahl_wfbm.info()"
   ]
  },
  {
   "cell_type": "code",
   "execution_count": null,
   "id": "fe0404b8",
   "metadata": {},
   "outputs": [],
   "source": [
    "data_anzahl_wfbm"
   ]
  },
  {
   "cell_type": "code",
   "execution_count": null,
   "id": "bd451105",
   "metadata": {},
   "outputs": [],
   "source": [
    "bundesdurchschnitt_wfbm = data_anzahl_wfbm.groupby('Jahr', as_index = False)['Anzahl der amtlich anerkannten WfbM'].mean().round(0)\n",
    "bundesdurchschnitt_wfbm"
   ]
  },
  {
   "cell_type": "code",
   "execution_count": null,
   "id": "88ae9da0",
   "metadata": {},
   "outputs": [],
   "source": [
    "bundesdurchschnitt_wfbm['Region'] = 'Deutschland (Durchschnitt)'\n",
    "bundesdurchschnitt_wfbm"
   ]
  },
  {
   "cell_type": "code",
   "execution_count": null,
   "id": "bf81df20",
   "metadata": {},
   "outputs": [],
   "source": [
    "Bund_Gesamtentwicklung=data_anzahl_wfbm.groupby('Jahr', as_index = False)['Anzahl der amtlich anerkannten WfbM'].sum()\n",
    "Bund_Gesamtentwicklung"
   ]
  },
  {
   "cell_type": "code",
   "execution_count": null,
   "id": "12800098",
   "metadata": {},
   "outputs": [],
   "source": [
    "Bund_Gesamtentwicklung['Region'] = 'Deutschland'\n",
    "Bund_Gesamtentwicklung"
   ]
  },
  {
   "cell_type": "code",
   "execution_count": null,
   "id": "2c3bf648",
   "metadata": {},
   "outputs": [],
   "source": [
    "data_sachsen_wfbm = data_anzahl_wfbm[data_anzahl_wfbm['Bundesland']=='Sachsen']\n",
    "data_sachsen_wfbm = data_sachsen_wfbm.groupby('Jahr', as_index = False)['Anzahl der amtlich anerkannten WfbM'].sum()\n",
    "data_sachsen_wfbm"
   ]
  },
  {
   "cell_type": "code",
   "execution_count": null,
   "id": "e3b11e34",
   "metadata": {},
   "outputs": [],
   "source": [
    "data_sachsen_wfbm['Region'] = 'Sachsen'\n",
    "data_sachsen_wfbm"
   ]
  },
  {
   "cell_type": "code",
   "execution_count": null,
   "id": "e6f5d878",
   "metadata": {},
   "outputs": [],
   "source": [
    "vergleich_werkstaetten = pd.concat([bundesdurchschnitt_wfbm, data_sachsen_wfbm])\n",
    "vergleich_werkstaetten"
   ]
  },
  {
   "cell_type": "code",
   "execution_count": null,
   "id": "ac11d8aa",
   "metadata": {},
   "outputs": [],
   "source": [
    "graph_werkstätten = px.line(vergleich_werkstaetten, x=\"Jahr\", y=\"Anzahl der amtlich anerkannten WfbM\", title='Entwicklung Anzahl der Betriebsstätten', color='Region')\n",
    "\n",
    "graph_werkstätten.show()"
   ]
  },
  {
   "cell_type": "code",
   "execution_count": null,
   "id": "df3bd808",
   "metadata": {},
   "outputs": [],
   "source": [
    "vergleich_werkstaetten2 = pd.concat([Bund_Gesamtentwicklung, data_sachsen_wfbm])\n",
    "vergleich_werkstaetten2"
   ]
  },
  {
   "cell_type": "code",
   "execution_count": null,
   "id": "bf8282b3",
   "metadata": {},
   "outputs": [],
   "source": [
    "graph_werkstätten2 = px.line(vergleich_werkstaetten2, x=\"Jahr\", y=\"Anzahl der amtlich anerkannten WfbM\", title='Entwicklung Anzahl der Werkstätten (absolute Zahlen)', color='Region')\n",
    "\n",
    "graph_werkstätten2.show()"
   ]
  },
  {
   "cell_type": "code",
   "execution_count": null,
   "id": "2ee3f775",
   "metadata": {},
   "outputs": [],
   "source": []
  },
  {
   "cell_type": "code",
   "execution_count": null,
   "id": "fb5ea78a",
   "metadata": {},
   "outputs": [],
   "source": []
  },
  {
   "cell_type": "code",
   "execution_count": null,
   "id": "4e73a503",
   "metadata": {},
   "outputs": [],
   "source": [
    "data_plätze = pd.read_csv(\"werkstattplätze_data.csv\") "
   ]
  },
  {
   "cell_type": "code",
   "execution_count": null,
   "id": "7c6baa2b",
   "metadata": {},
   "outputs": [],
   "source": [
    "bundesdurchschnitt_plätze = data_plätze.groupby('Jahr', as_index = False)['Summe bel. Plätze'].mean().round(0)\n",
    "bundesdurchschnitt_plätze['Region'] = 'Deutschland (Durchschnitt)'\n",
    "bundesdurchschnitt_plätze"
   ]
  },
  {
   "cell_type": "code",
   "execution_count": null,
   "id": "93875771",
   "metadata": {},
   "outputs": [],
   "source": [
    "data_sachsen_plätze = data_plätze[data_plätze['Bundesland']=='Sachsen']\n",
    "data_sachsen_plätze = data_sachsen_plätze.groupby('Jahr', as_index = False)['Summe bel. Plätze'].sum()\n",
    "data_sachsen_plätze"
   ]
  },
  {
   "cell_type": "code",
   "execution_count": null,
   "id": "0eed9c5a",
   "metadata": {},
   "outputs": [],
   "source": [
    "data_sachsen_plätze['Region'] = 'Sachsen'\n",
    "data_sachsen_plätze"
   ]
  },
  {
   "cell_type": "code",
   "execution_count": null,
   "id": "aa81e9b6",
   "metadata": {},
   "outputs": [],
   "source": [
    "vergleich_plätze = pd.concat([bundesdurchschnitt_plätze, data_sachsen_plätze])\n",
    "vergleich_plätze"
   ]
  },
  {
   "cell_type": "code",
   "execution_count": null,
   "id": "d66595d3",
   "metadata": {},
   "outputs": [],
   "source": [
    "graph_werkstattplätze_durchschnitt = px.line(vergleich_plätze, x=\"Jahr\", y=\"Summe bel. Plätze\", title='Entwicklung Anzahl belegter Plätze in Werkstätten', color='Region')\n",
    "\n",
    "graph_werkstattplätze_durchschnitt.show()"
   ]
  },
  {
   "cell_type": "code",
   "execution_count": null,
   "id": "3d1d6060",
   "metadata": {},
   "outputs": [],
   "source": []
  },
  {
   "cell_type": "code",
   "execution_count": null,
   "id": "27a3ea84",
   "metadata": {},
   "outputs": [],
   "source": []
  },
  {
   "cell_type": "code",
   "execution_count": null,
   "id": "4788c9ea",
   "metadata": {},
   "outputs": [],
   "source": [
    "# Einlesen des Werkstatt-Datensatzes\n",
    "werkstaetten = gpd.read_file(\"Karte_Werkstätten.geojson\")\n",
    "\n",
    "print(werkstaetten.head())"
   ]
  },
  {
   "cell_type": "code",
   "execution_count": null,
   "id": "71fd7bb4",
   "metadata": {},
   "outputs": [],
   "source": [
    "# Fügt dem Werkstätten-Datensatz zwei neue Spalten hinzu, die die Latitude- und Longitude-Werte einzeln enthalten.\n",
    "# Plotly benötigt die Geo-Angaben in dieser Form, um die Punkte auf der Karte korrekt darzustellen.\n",
    "werkstaetten['lon'] = werkstaetten['geometry'].x\n",
    "werkstaetten['lat'] = werkstaetten['geometry'].y\n",
    "\n",
    "# Funktion, die die Namen der Werkstätten nach Leerzeichen durchsucht und beim jeweils fünften Leerzeichen ein <br>-Tag einbaut.\n",
    "# Diese geänderte Version der Werkstatt-Namen wird anschließend in einer neuen Spalte im Werkstatt-Datensatz abgespeichert.\n",
    "# Dieser Schritt ermöglicht es, bei der Visualisierung die Info-Box kleiner zu halten, die beim Hovern über die Punkte auftaucht,\n",
    "# da die oft sehr langen Werkstatt-Namen ab einer gewissen Länge mit einem Absatz getrennt werden.\n",
    "def add_br():\n",
    "    names_formatted = []\n",
    "    for werkstatt in werkstaetten[\"Name\"]:\n",
    "        name_neu = \"\"\n",
    "        counter = 0\n",
    "        for zeichen in range(len(werkstatt)):\n",
    "            if werkstatt[zeichen] == ' ':\n",
    "                counter += 1\n",
    "            else:\n",
    "                counter += 0\n",
    "            if werkstatt[zeichen] == ' ' and counter == 5:\n",
    "                name_neu = name_neu + '<br>'\n",
    "            else:\n",
    "                name_neu = name_neu + werkstatt[zeichen]\n",
    "        names_formatted.append(name_neu)\n",
    "    return names_formatted\n",
    "\n",
    "werkstaetten['Name_formatted'] = pd.Series(add_br())"
   ]
  },
  {
   "cell_type": "code",
   "execution_count": null,
   "id": "d810bef9",
   "metadata": {},
   "outputs": [],
   "source": [
    "# Festlegen verschiedener Parameter für die Visualisierung der Daten als Scatter Plot auf einer Karte.\n",
    "# Die Grundlage stellt eine Mapbox von Carto dar, die frei verwendbar ist. Diese wird mit Hilfe von 'center' und 'zoom'\n",
    "# auf die richtige Ansicht eingestellt.\n",
    "# Für die Geo-Daten werden die Latitude- und Longitude-Werte aus dem Werkstatt-Datensatz verwendet.\n",
    "karte_werkstätten = px.scatter_mapbox(werkstaetten, lat=\"lat\", lon=\"lon\",\n",
    "                        width=900, height=500,\n",
    "                        title=\"WfbM in Sachsen\",\n",
    "                        hover_name=\"Name_formatted\",\n",
    "                        labels={\"Foerderung\":\"Besondere Fördermöglichkeiten\"},\n",
    "                        color=\"Foerderung\",\n",
    "                        color_discrete_sequence=['#bcbd22', '#17becf'],\n",
    "                        mapbox_style=\"carto-positron\",\n",
    "                        opacity=1,\n",
    "                        center = {\"lat\": 50.98525, \"lon\": 13.58035},\n",
    "                        zoom=6.8,\n",
    "                        # animation_frame=\"Foerderung\"\n",
    "                        )\n",
    "\n",
    "# Anpassen der Größe der Punkte auf der Karte für bessere Sichtbarkeit\n",
    "karte_werkstätten.update_traces(marker={'size': 12})\n",
    "\n",
    "# Anpassen des Titels der Legende\n",
    "karte_werkstätten.update_layout(legend=dict(title=\"Besondere<br>Fördermöglichkeiten\"))\n",
    "\n",
    "karte_werkstätten.show()"
   ]
  },
  {
   "cell_type": "code",
   "execution_count": null,
   "id": "dd0f9818",
   "metadata": {},
   "outputs": [],
   "source": []
  },
  {
   "cell_type": "code",
   "execution_count": null,
   "id": "a2d3a277",
   "metadata": {},
   "outputs": [],
   "source": [
    "pflichtarbeitsplätze = pd.read_excel('pflichtarbeitsplätze_data.xlsx', engine=\"openpyxl\")"
   ]
  },
  {
   "cell_type": "code",
   "execution_count": null,
   "id": "10253c17",
   "metadata": {},
   "outputs": [],
   "source": [
    "pflichtarbeitsplätze"
   ]
  },
  {
   "cell_type": "code",
   "execution_count": null,
   "id": "b578a788",
   "metadata": {},
   "outputs": [],
   "source": [
    "pflichtarbeitsplätze[\"unbesetzt\"].mean()"
   ]
  },
  {
   "cell_type": "code",
   "execution_count": null,
   "id": "50193d5c",
   "metadata": {},
   "outputs": [],
   "source": [
    "#überprüfen, ob alle Zahlenangaben auch als integer oder floats erkannt werden, so dass damit gerechnet werden kann\n",
    "print(pflichtarbeitsplätze.info())\n"
   ]
  },
  {
   "cell_type": "code",
   "execution_count": null,
   "id": "486c0d8b",
   "metadata": {},
   "outputs": [],
   "source": [
    "#Jahre 2009 bis 2020 werden abgebildet im Datensatz\n",
    "pflichtarbeitsplätze['Jahr'].unique()\n"
   ]
  },
  {
   "cell_type": "code",
   "execution_count": null,
   "id": "08d9ba7a",
   "metadata": {},
   "outputs": [],
   "source": [
    "#Überprüfung der Bundesländer, Überprüfung, dass Bundesländer immer gleich geschrieben werden\n",
    "#es fällt auf: Sachsen-Anhalt ist falsch geschrieben\n",
    "#überlegung: Bedeutung von Angabe fehlt, umbenennen in intuitiveren Namen\n",
    "pflichtarbeitsplätze['Bundesland'].unique()\n"
   ]
  },
  {
   "cell_type": "code",
   "execution_count": null,
   "id": "6b69a214",
   "metadata": {},
   "outputs": [],
   "source": [
    "len(pflichtarbeitsplätze['Bundesland'].unique())"
   ]
  },
  {
   "cell_type": "code",
   "execution_count": null,
   "id": "93b849c5",
   "metadata": {},
   "outputs": [],
   "source": [
    "#falsche Bundesland-Einträge wurden ersetzt und durch inplace=True im Datensatz übernommen\n",
    "pflichtarbeitsplätze.replace('Sachsten-Anhalt','Sachsen-Anhalt', inplace=True)\n",
    "pflichtarbeitsplätze.replace('Nordrhein-Westfahlen','Nordrhein-Westfalen', inplace=True)\n"
   ]
  },
  {
   "cell_type": "code",
   "execution_count": null,
   "id": "2fe1e689",
   "metadata": {},
   "outputs": [],
   "source": [
    "#Kontrolle, dass neue Werte übernommen wurden\n",
    "pflichtarbeitsplätze[pflichtarbeitsplätze['Bundesland'] == 'Sachsen-Anhalt']\n"
   ]
  },
  {
   "cell_type": "code",
   "execution_count": null,
   "id": "c8e01cb0",
   "metadata": {},
   "outputs": [],
   "source": [
    "#'Angabe fehlt' wird ersetzt durch intutiveren Namen\n",
    "pflichtarbeitsplätze.replace('Angabe fehlt','keinem Bundesland zugeordnet', inplace=True)\n"
   ]
  },
  {
   "cell_type": "code",
   "execution_count": null,
   "id": "a8a3035a",
   "metadata": {},
   "outputs": [],
   "source": [
    "#zeigt, dass wir für jedes Bundesland für jedes Jahr Werte vorliegen haben\n",
    "pflichtarbeitsplätze['Bundesland'].value_counts()\n"
   ]
  },
  {
   "cell_type": "code",
   "execution_count": null,
   "id": "abbdb96a",
   "metadata": {},
   "outputs": [],
   "source": [
    "#kontrolle\n",
    "pflichtarbeitsplätze['unbesetzt'].loc[pflichtarbeitsplätze.index][33] \n",
    "\n"
   ]
  },
  {
   "cell_type": "code",
   "execution_count": null,
   "id": "4cebd658",
   "metadata": {},
   "outputs": [],
   "source": [
    "pflichtarbeitsplätze.head(85)"
   ]
  },
  {
   "cell_type": "code",
   "execution_count": null,
   "id": "8c6affc3",
   "metadata": {},
   "outputs": [],
   "source": [
    "#dieser Wert war wirklich eine 0 und muss beibehalten werden\n",
    "pflichtarbeitsplätze.at[33,'unbesetzt']= 0\n"
   ]
  },
  {
   "cell_type": "code",
   "execution_count": null,
   "id": "b9ca092c",
   "metadata": {},
   "outputs": [],
   "source": [
    "#kontrolle\n",
    "pflichtarbeitsplätze['unbesetzt'].loc[pflichtarbeitsplätze.index][33] \n"
   ]
  },
  {
   "cell_type": "code",
   "execution_count": null,
   "id": "1ac725d1",
   "metadata": {},
   "outputs": [],
   "source": [
    "# Funktion, die alle Indizes eines bestimmten Jahres auswählt und diese als Liste ausgibt\n",
    "def get_year_index(jahr):\n",
    "    i = pflichtarbeitsplätze.index\n",
    "    index = pflichtarbeitsplätze[\"Jahr\"] == jahr\n",
    "    result = i[index]\n",
    "    year_indices = result.tolist()\n",
    "    return year_indices"
   ]
  },
  {
   "cell_type": "code",
   "execution_count": null,
   "id": "2885417a",
   "metadata": {},
   "outputs": [],
   "source": [
    "# Entfernen aller nicht-verfügbaren Daten\n",
    "pflichtarbeitsplätze = pflichtarbeitsplätze.dropna()"
   ]
  },
  {
   "cell_type": "code",
   "execution_count": null,
   "id": "26bb2d48",
   "metadata": {},
   "outputs": [],
   "source": [
    "pflichtarbeitsplätze.head(85)"
   ]
  },
  {
   "cell_type": "code",
   "execution_count": null,
   "id": "ecd3fa92",
   "metadata": {},
   "outputs": [],
   "source": [
    "# Anlegen einer Liste mit allen im Datensatz enthaltenen Jahren\n",
    "years = [2009, 2010, 2011, 2012, 2013, 2014, 2015, 2016, 2017, 2018, 2019, 2020]\n",
    "\n",
    "# Anlegen zweier leerer Listen, die anschließend mit den Durchschnittswerten von privaten/öffentlichen Arbeitgebern befüllt werden.\n",
    "durchschnittswerte_privat = []\n",
    "durchschnittswerte_oeffentlich = []\n",
    "\n",
    "# Jedes Jahr aus der year-Liste wird abgeglichen mit den Jahren aus dem Datensatz, um die Indizes jedes Jahres zu erhalten.\n",
    "for year in years:\n",
    "    get_year_index(year)\n",
    "    quotenwerte = []\n",
    "\n",
    "# An den ermittelten Index-Stellen wird geprüft, ob es sich beim Eintrag um einen privaten Arbeitgeber handelt.\n",
    "# Ist das der Fall, wird der erreichte Quotenwert (aus der Spalte \"Ist%\") \n",
    "    for item in get_year_index(year):\n",
    "        if pflichtarbeitsplätze[\"Arbeitgeber\"][item] == \"Privat\":\n",
    "            quotenwerte.append(pflichtarbeitsplätze[\"Ist%\"][item])\n",
    "\n",
    "# Die eben ermittelten Werte sind noch nach einzelnen Bundesländern getrennt. Nun soll daraus der Durchschnitt errechnet werden.\n",
    "    gesamt = sum(quotenwerte)\n",
    "    durchschnitt_jahr = gesamt/ 16\n",
    "    durchschnittswerte_privat.append(durchschnitt_jahr)\n",
    "\n",
    "# Das eben beschriebene Vorgehen wird in gleicher Weise noch einmal durchgeführt - dieses Mal für die öffentlichen Arbeitgeber.\n",
    "for year in years:\n",
    "    get_year_index(year)\n",
    "    quotenwerte = []\n",
    "    \n",
    "    for item in get_year_index(year):\n",
    "        if pflichtarbeitsplätze[\"Arbeitgeber\"][item] == \"Oeffentlich\":\n",
    "            quotenwerte.append(pflichtarbeitsplätze[\"Ist%\"][item])\n",
    "    \n",
    "    gesamt = sum(quotenwerte)\n",
    "    durchschnitt_jahr = gesamt/ 16\n",
    "    durchschnittswerte_oeffentlich.append(durchschnitt_jahr)"
   ]
  },
  {
   "cell_type": "code",
   "execution_count": null,
   "id": "ad4662b8",
   "metadata": {},
   "outputs": [],
   "source": [
    "# Erstellung zweier getrennter Datensätze, die jeweils die erreichte Quote der privaten/öffentlichen Arbeitgeber enthalten sollen.\n",
    "quote_privat = pd.DataFrame(years)\n",
    "quote_privat.columns = [\"Jahr\"]\n",
    "quote_privat['Arbeitgeber'] = \"Privat\"\n",
    "\n",
    "quote_oeffentlich = pd.DataFrame(years)\n",
    "quote_oeffentlich.columns = [\"Jahr\"]\n",
    "quote_oeffentlich['Arbeitgeber'] = \"Oeffentlich\"\n",
    "\n",
    "# Erstellung eines dritten Datensatzes, der für jedes Jahr die vorgegebene Quote von 5% enthalten soll und später im\n",
    "# Schaubild eine gerade Linie als Orientierung zum Vergleich der anderen Werte darstellt.\n",
    "quote = pd.DataFrame(years)\n",
    "quote.columns = [\"Jahr\"]\n",
    "quote['Arbeitgeber'] = \"5%-Quote\"\n",
    "\n",
    "# Jedem Datensatz wird eine dritte Spalte hinzugefügt, die die tatsächlich erreichten Durchschnittswerte für jedes Jahr enthält. \n",
    "quote_privat['Quote'] = durchschnittswerte_privat\n",
    "quote_oeffentlich['Quote'] = durchschnittswerte_oeffentlich\n",
    "quote['Quote'] = 0.05"
   ]
  },
  {
   "cell_type": "code",
   "execution_count": null,
   "id": "11303263",
   "metadata": {},
   "outputs": [],
   "source": [
    "quote_privat"
   ]
  },
  {
   "cell_type": "code",
   "execution_count": null,
   "id": "e879fd9f",
   "metadata": {},
   "outputs": [],
   "source": [
    "quote_oeffentlich"
   ]
  },
  {
   "cell_type": "code",
   "execution_count": null,
   "id": "cc7f7521",
   "metadata": {},
   "outputs": [],
   "source": [
    "# Zusammenfügen und Sortieren der drei einzelnen Datensätze\n",
    "frames = [quote_privat, quote_oeffentlich, quote]\n",
    "result = pd.concat(frames, ignore_index=True)\n",
    "sorted_result = result.sort_values(by=['Jahr'], ascending=True)\n",
    "sorted_result.reset_index(drop = True, inplace = True)\n",
    "\n",
    "# Werte der Spalte \"Quote\" werden mit 100 multipliziert, um die tatsächlichen Prozentwerte anzugeben.\n",
    "sorted_result['Quote'] = sorted_result['Quote'].apply(lambda x: x*100)\n",
    "\n",
    "sorted_result"
   ]
  },
  {
   "cell_type": "code",
   "execution_count": null,
   "id": "28a2e777",
   "metadata": {},
   "outputs": [],
   "source": [
    "# Erstellen der Visualisierung mit plotly.express\n",
    "graph_quote = px.line(sorted_result,\n",
    "                      x=\"Jahr\",\n",
    "                      y=\"Quote\",\n",
    "                      color='Arbeitgeber',\n",
    "                      )\n",
    "\n",
    "# Festlegen der y-Achse auf die range 0 bis 7, um die Daten im richtigen Verhältnis darzustellen\n",
    "graph_quote.update_layout(yaxis_range=[0,7])\n",
    "\n",
    "graph_quote.show()"
   ]
  },
  {
   "cell_type": "code",
   "execution_count": null,
   "id": "a7c9eaf1",
   "metadata": {},
   "outputs": [],
   "source": []
  },
  {
   "cell_type": "code",
   "execution_count": null,
   "id": "db19e5a7",
   "metadata": {},
   "outputs": [],
   "source": []
  },
  {
   "cell_type": "code",
   "execution_count": null,
   "id": "20d1b6af",
   "metadata": {},
   "outputs": [],
   "source": [
    "# Zusammenfügen aller erstellten Visualisierungen mit dash und Festlegen eines Standard-Stylesheets\n",
    "app = dash.Dash(external_stylesheets=[dbc.themes.BOOTSTRAP])\n",
    "\n",
    "# Konfiguration der Struktur der Seite mit Hilfe von dash_bootstrap_components mit html-Elementen und\n",
    "# einfachen CSS-Befehlen mit \"style={}\"\n",
    "app.layout=html.Div([\n",
    "        dbc.Row(\n",
    "            dbc.Col(\n",
    "            html.Div([\n",
    "                html.H1('Einleitung', style={'font-family': 'sans-serif', 'margin-top': 30}),\n",
    "                html.P('Bereits im Jahr 2009 haben die Vereinten Nationen (UN) Deutschland nahegelegt, Werkstätten für Menschen mit Behinderungen (WfbM), wie sie in ihrer derzeitigen Form bestehen, abzuschaffen. Mehr als ein Jahrzehnt später gibt es sie allerdings immer noch und Themen wie Mindestlohn in Werkstätten und Integration in den allgemeinen Arbeitsmarkt werden weiterhin diskutiert. Im Rahmen eines datenjournalistischen Projekts haben die Masterstudierenden Jonas Armbruster, Margareta Holzreiter, Dariush Movahedian und Friederike Streib sich mit Daten zu diesen Themen befasst.', style={'font-family': 'sans-serif', 'margin-top': 30})\n",
    "                    ]),\n",
    "                width={\"size\": 10},\n",
    "                   ), justify=\"center\"\n",
    "               ),\n",
    "        dbc.Row(\n",
    "            dbc.Col(\n",
    "                html.Div([\n",
    "                    html.H1('Wie haben sich die Entgelte in den Werkstätten entwickelt?', style={'font-family': 'sans-serif'}),\n",
    "                    html.Div([\n",
    "                        html.P('2022 ist der Mindestlohn in Deutschland auf 12 Euro angestiegen. Nicht allerdings für Werkstattbeschäftigte, denn sie befinden sich nur in einem „arbeitnehmerähnlichen Verhältnis“ und haben so keinen Anspruch auf den gesetzlichen Mindestlohn. Stattdessen erhalten sie für ihre Arbeit in einer Werkstatt ein Arbeitsentgelt, welches sich aus Arbeitsförderungsgeld (AFöG), Grundbetrag und einem leistungsabhängigen Steigerungsbetrag zusammensetzt. Werkstattbeschäftigte erhalten dieses Arbeitsentgelt meist zusätzlich zu einer Grundsicherung vom Amt oder einer Erwerbsminderungsrente.', style={'font-family': 'sans-serif', 'margin-top': 30}),\n",
    "                        html.P('Das Entgelt in Sachsen liegt 2021 bei 167 Euro pro Monat und somit deutlich unter dem bundesweiten Durchschnitt von 215 Euro. Besonders groß war die Differenz im Jahr 2017: Hier betrug das Entgelt in Sachsen 107 Euro und damit nur knapp mehr als die Hälfte des Bundesdurchschnitts von etwa 207 Euro. Allerdings verzeichnete Sachsen von 2018 auf 2019 einen starken Anstieg von 114 auf 163 Euro. 2020 sank das durchschnittliche Entgelt in Sachsen allerdings noch einmal auf 154 Euro, als ursächlich werden pandemiebedingte Einschränkungen des Werkstattbetriebs angesehen.', style={'font-family': 'sans-serif'}),\n",
    "                        dcc.Graph(id= 'line-graph1', figure=graph_entgelte)\n",
    "                            ])\n",
    "                        ]),\n",
    "                    width={\"size\": 10},\n",
    "                   ), justify=\"center\"\n",
    "               ),\n",
    "# Text und Karte werden in einer Zeile nebeneinandergestellt, um für eine bessere Übericht und\n",
    "# abwechslungsreichere Darstellung zu sorgen.\n",
    "        dbc.Row([\n",
    "            dbc.Col(\n",
    "                html.Div([\n",
    "                    html.P('In der nebenstehenden Karte ist die Höhe der Monatsgehälter in WfbM für alle Bundesländer abgetragen. Der Vergleich der Entwicklung der Entgelte zeigt allgemein einen Trend nach oben. Mit Start der Erhebung in Jahr 2009 liegt das höchste ausgezahlte Entgelt (hier in Bremen) bei 214 Euro. Bis zum Jahr 2021 wurde das Niveau der Entgelte kontinuierlich angehoben, sodass der Höchstwert nun bei 269 Euro liegt. Hamburg hat somit Bremen überholt und zahlt momentan die meisten Gelder an Beschäftigte in WfbM aus.', style={'font-family': 'sans-serif', 'margin-top': 40}),\n",
    "                    html.P('Deutlich wird aus der Betrachtung der Karte ebenfalls, dass ein signifikanter Unterschied zwischen den alten und neuen Bundesländern besteht. Während im Jahr 2009 Hessen mit 153 Euro den niedrigsten Wert unter den alten Bundesländern auszahlt, kommt Thüringen mit dem höchsten Wert von 145 Euro für die neuen Bundesländer gerade so auf ein ähnliches Niveau. Dieser Unterschied hält bis ins Jahr 2021 an, wobei besonders Sachsen mit dem konstant niedrigsten Entgelt auffällt. Der Wechsel von 2016 auf 2017 stellt für beinahe alle Bundesländer den höchsten Anstieg der Entgelte dar. Brandenburg ist in 2017 ausgeblendet, da für dieses Jahr keine Werte aus dem Bundesland vorliegen.', style={'font-family': 'sans-serif'}),\n",
    "                        ]),\n",
    "                    width={\"size\": 5},\n",
    "                   ),\n",
    "            dbc.Col(\n",
    "                html.Div([\n",
    "                    dcc.Graph(id= 'map-graph1', figure=karte_entgelte)\n",
    "                        ]),\n",
    "                width={\"size\": 5}\n",
    "                   )\n",
    "               ],justify=\"center\"),\n",
    "        dbc.Row(\n",
    "            dbc.Col(\n",
    "                html.Div([\n",
    "                    html.H1('Wie unterscheidet sich die Erfüllung der Pflichtarbeitsplatzquote bei öffentlichen und privaten Arbeitgebern?', style={'font-family': 'sans-serif', 'margin-top': 50}),\n",
    "                    html.Div([\n",
    "                        html.P('Um die Inklusion voranzutreiben, hat die Bundesregierung eine sog. Pflichtarbeitsplatzquote von 5% für öffentliche und private Arbeitgeber erlassen. Sie soll die Beschäftigung von schwerbehinderten Menschen auf dem ersten Arbeitsmarkt erhöhen. Bei Nichteinhaltung müssen Arbeitgeber (Betriebe ab 20 Mitarbeiter*innen) eine Ausgleichsabgabe zahlen.', style={'font-family': 'sans-serif', 'margin-top': 30}),\n",
    "                        html.P('Wie man der nachfolgenden Grafik entnehmen kann, erreichen nur die öffentlichen Arbeitgeber die Quote. Seit 2009 liegt die öffentliche Seite zwischen 6 und 6,5%. Private Arbeitgeber liegen unter der Pflichtarbeitsquote. 2019 kam es zu einem leichten Anstieg bis zum Jahr 2020 auf 4%. Es ist davon auszugehen, dass die Quote weiterhin nicht erfüllt wird. Private Arbeitsgber müssen also die Ausgleichsabgabe bezahlen.', style={'font-family': 'sans-serif'}),\n",
    "                        dcc.Graph(id= 'line-graph2', figure=graph_quote)\n",
    "                            ])\n",
    "                        ]),\n",
    "                    width={\"size\": 10},\n",
    "                    ), justify=\"center\"\n",
    "                ),\n",
    "        dbc.Row(\n",
    "            dbc.Col(\n",
    "                html.Div([\n",
    "                    html.H1('Wo in Sachsen gibt es anerkannte Werkstätten und bieten diese eine besondere Berufsförderung an?', style={'font-family': 'sans-serif'}),\n",
    "                        ]),\n",
    "                    width={\"size\": 10},\n",
    "                    ), justify=\"center\"\n",
    "                ),        \n",
    "        dbc.Row([\n",
    "            dbc.Col(\n",
    "                html.Div([\n",
    "                    html.P('Wie bereits erwähnt, sind Werkstätten in Deutschland dazu verpflichtet, die Beschäftigten auf eine Teilnahme am Arbeitsleben auf dem ersten Arbeitsmarkt vorzubereiten. Grundlegend bieten alle Werkstätten Maßnahmen an, die dieses Ziel verfolgen. Es gibt allerdings einzelne Betriebe, die ihren Beschäftigten besondere Möglichkeiten zur Berufsförderung anbieten. Hierbei muss unterschieden werden zwischen Werkstätten, die Praktika auf dem ersten Arbeitsmarkt ermöglichen, Werkstätten, deren Beschäftigten Außenarbeitsplätze in Unternehmen des ersten Arbeitsmarkts zur Verfügung stehen, und Werkstätten, die beispielsweise durch besondere Vorbereitung und Begleitung beim Prozess des Wechsels auf den ersten Arbeitsmarkt unterstützen. Die nebenstehende Grafik zeigt, welche Werkstätten eine Förderung im Sinne der letzten Beschreibung anbieten.', style={'font-family': 'sans-serif', 'margin-top': 30}),\n",
    "                        ]),\n",
    "                    width={\"size\": 3},\n",
    "                   ),\n",
    "            dbc.Col(\n",
    "                html.Div([\n",
    "                    dcc.Graph(id= 'map-graph2', figure=karte_werkstätten)\n",
    "                        ]),\n",
    "                width={\"size\": 7}\n",
    "                   )\n",
    "               ],justify=\"center\"),\n",
    "        dbc.Row(\n",
    "            dbc.Col(\n",
    "                html.Div([\n",
    "                    html.P('Zunächst ist grundlegend erkennbar, in welcher Weise sich die WfbM auf das Gebiet des Bundeslandes Sachsen aufteilen. Insgesamt zeigt sich eine recht gleichmäßige Verteilung mit einer Ballung in der Nähe größerer Städte, die aufgrund der Einwohnerzahl dieser Gebiete auch erwartbar ist. Im Gebiet zwischen Chemnitz und Dresden und der tschechischen Grenze hingegen, gibt es für die Größe des Gebiets verhältnismäßig wenige Werkstätten. Anzumerken ist hierbei, dass die Karte nicht alle Einzelwerkstätten Sachsens auflistet, sondern nur die Betriebe darstellt. In einigen Fällen gehören zu einem Betrieb mehrere Einzelwerkstätten, die voneinander getrennt sind. Dementsprechend zeigt die Karte 61 Punkte, wohingegen die Gesamtzahl aller einzelnen Werkstätten in Sachsen 116 beträgt. Unter den Werkstätten gibt es einige Einzelbetriebe, allerdings wird die Mehrzahl der Werkstätten von größeren Trägern wie der Diakonie, der Lebenshilfe oder dem Christlichen Sozialwerk geführt.', style={'font-family': 'sans-serif'}),\n",
    "                    html.P('Bei der Betrachtung der Werkstätten, die eine besondere Berufsförderung anbieten, fällt auf, dass dies nicht einmal die Hälfte der Werkstätten in Sachsen umfasst – in Leipzig gibt es beispielsweise keine einzige Werkstatt mit besonderer Berufsförderung. Im Raum Dresden hingegen trifft dies auf den Großteil der dort ansässigen Werkstätten zu.', style={'font-family': 'sans-serif'}),\n",
    "                        ]),\n",
    "                    width={\"size\": 10},\n",
    "                    ), justify=\"center\"\n",
    "                ),\n",
    "        dbc.Row(\n",
    "            dbc.Col(\n",
    "                html.Div([\n",
    "                    html.H1('Wie hat sich die Anzahl der anerkannten Werkstätten in Sachsen und ganz Deutschland entwickelt?', style={'font-family': 'sans-serif', 'margin-top': 30}),\n",
    "                    html.Div([\n",
    "                        html.P('Werkstätten für Menschen mit Behinderung haben laut Werkstättenverordnung die Aufgabe, Menschen mit einer Beeinträchtigung die Teilhabe am Arbeitsleben zu ermöglichen. Zentrale Aufgabe ist es auch, die Beschäftigten durch geeignete Maßnahmen auf eine Arbeit auf dem ersten Arbeitsmarkt vorzubereiten.', style={'font-family': 'sans-serif', 'margin-top': 30}),\n",
    "                        html.P('Im Jahr 2015 wurde erstmals die Umsetzung der UN-Behindertenrechtskonvention (UN-BRK) in Deutschland durch einen UN-Fachausschuss geprüft. Der Fachausschuss bemängelte unter anderem eine unzureichende Integration von Menschen mit Behinderung in den ersten Arbeitsmarkt und kritisierte die Segregation der Menschen in Behindertenwerkstätten. Deutschland wurde daraufhin aufgefordert, eine Ausstiegsstrategie aus dem System der Werkstätten zu entwickeln und den allgemeinen Arbeitsmarkt inklusiver zu gestalten.', style={'font-family': 'sans-serif'}),\n",
    "                        html.P('Im Jahr 2009 gab es deutschlandweit 715 amtlich anerkannte Werkstätten für Menschen mit Behinderung. In den folgenden Jahren ist die Anzahl der Werkstätten weiter gestiegen und lag 2021 bei 736 Werkstätten in ganz Deutschland. Auch nach den Empfehlungen durch den UN-Ausschuss 2015 ist kein Einbruch erkennbar.', style={'font-family': 'sans-serif'}),\n",
    "                        html.P('Der Freistaat Sachsen liegt bei der Anzahl der amtlich anerkannten Werkstätten über dem bundesweiten Durchschnitt. Während es 2021 pro Bundesland durchschnittlich 46 Werkstätten gab, sind es in Sachsen 60 Stück. Hier ist die Anzahl der anerkannten Werkstätten in den vergangenen 14 Jahren kontinuierlich gleich geblieben. Anzumerken ist allerdings, dass die Größe der Werkstätten variiert und der Vergleich deshalb keine übergeordneten Aussagen zulässt.', style={'font-family': 'sans-serif'}),\n",
    "                            ])\n",
    "                        ]),\n",
    "                    width={\"size\": 10},\n",
    "                    ), justify=\"center\"\n",
    "                ),\n",
    "        dbc.Row([\n",
    "            dbc.Col(\n",
    "                html.Div([\n",
    "                    dcc.Graph(id= 'line-graph3', figure=graph_werkstätten)\n",
    "                        ]),\n",
    "                    width={\"size\": 5},\n",
    "                   ),\n",
    "            dbc.Col(\n",
    "                html.Div([\n",
    "                    dcc.Graph(id= 'line-graph4', figure=graph_werkstätten2)\n",
    "                        ]),\n",
    "                width={\"size\": 5}\n",
    "                   )\n",
    "               ],justify=\"center\"),\n",
    "        dbc.Row(\n",
    "            dbc.Col(\n",
    "                html.Div([\n",
    "                    html.H1('Wie viele Menschen sind und waren in anerkannten Werkstätten in Sachsen und Gesamtdeutschland beschäftigt?', style={'font-family': 'sans-serif'}),\n",
    "                    html.Div([\n",
    "                        html.P('Das Recht auf einen Platz in einer Werkstatt für Menschen mit Behinderung hat, wer als voll erwerbsgemindert eingestuft ist. Weitere Voraussetzungen für eine Beschäftigung im Arbeitsbereich einer Werkstatt sind, dass die behinderten Beschäftigten ein Mindestmaß an wirtschaftlich verwertbarer Arbeit leisten können und keinen außerordentlichen Pflegebedarf haben.', style={'font-family': 'sans-serif', 'margin-top': 30}),\n",
    "                        html.P('Seit der Unterzeichnung der UN-BRK 2009 ist die Anzahl der belegten Plätze in Mitgliedswerkstätten der Bundesarbeitsgemeinschaft WfbM (BAG WfbM) in Deutschland von 265.178 leicht auf 293.069 (2021) gestiegen. Bei den belegten Plätzen liegt Sachsen hier unter dem Bundesdurchschnitt und weist seit 2012 einen Rückgang der belegten Plätze auf. Während es 2012 einen Peak mit 13.067 belegten Plätzen gab, sind in Sachsen 9 Jahre später nur noch 10.449 Plätze in den BAG-Mitgliedswerkstätten belegt gewesen.', style={'font-family': 'sans-serif'}),\n",
    "                        dcc.Graph(id= 'line-graph5', figure=graph_werkstattplätze_durchschnitt)\n",
    "                            ])\n",
    "                        ]),\n",
    "                    width={\"size\": 10},\n",
    "                    ), justify=\"center\"\n",
    "                )\n",
    "                    ])\n",
    "\n",
    "\n",
    "app.run_server(debug=False, port=8010, host='localhost')\n"
   ]
  },
  {
   "cell_type": "code",
   "execution_count": null,
   "id": "9c6db13c",
   "metadata": {},
   "outputs": [],
   "source": []
  },
  {
   "cell_type": "code",
   "execution_count": null,
   "id": "2b42f774",
   "metadata": {},
   "outputs": [],
   "source": []
  },
  {
   "cell_type": "code",
   "execution_count": null,
   "id": "2935cd4d",
   "metadata": {},
   "outputs": [],
   "source": []
  },
  {
   "cell_type": "code",
   "execution_count": null,
   "id": "1b045239",
   "metadata": {},
   "outputs": [],
   "source": []
  }
 ],
 "metadata": {
  "kernelspec": {
   "display_name": "Python 3 (ipykernel)",
   "language": "python",
   "name": "python3"
  },
  "language_info": {
   "codemirror_mode": {
    "name": "ipython",
    "version": 3
   },
   "file_extension": ".py",
   "mimetype": "text/x-python",
   "name": "python",
   "nbconvert_exporter": "python",
   "pygments_lexer": "ipython3",
   "version": "3.10.7"
  }
 },
 "nbformat": 4,
 "nbformat_minor": 5
}
